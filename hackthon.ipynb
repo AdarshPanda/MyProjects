{
  "nbformat": 4,
  "nbformat_minor": 0,
  "metadata": {
    "colab": {
      "name": "hackthon.ipynb",
      "version": "0.3.2",
      "provenance": [],
      "collapsed_sections": [],
      "include_colab_link": true
    },
    "kernelspec": {
      "name": "python3",
      "display_name": "Python 3"
    }
  },
  "cells": [
    {
      "cell_type": "markdown",
      "metadata": {
        "id": "view-in-github",
        "colab_type": "text"
      },
      "source": [
        "<a href=\"https://colab.research.google.com/github/AdarshPanda/MyProjects/blob/master/hackthon.ipynb\" target=\"_parent\"><img src=\"https://colab.research.google.com/assets/colab-badge.svg\" alt=\"Open In Colab\"/></a>"
      ]
    },
    {
      "cell_type": "code",
      "metadata": {
        "id": "VpOkMZ-fb-Ry",
        "colab_type": "code",
        "outputId": "0ea86de1-f4d8-4eea-eb69-a19d9fd89d8e",
        "colab": {
          "resources": {
            "http://localhost:8080/nbextensions/google.colab/files.js": {
              "data": "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",
              "ok": true,
              "headers": [
                [
                  "content-type",
                  "application/javascript"
                ]
              ],
              "status": 200,
              "status_text": ""
            }
          },
          "base_uri": "https://localhost:8080/",
          "height": 74
        }
      },
      "source": [
        "from google.colab import files\n",
        "\n",
        "uploaded = files.upload()"
      ],
      "execution_count": 9,
      "outputs": [
        {
          "output_type": "display_data",
          "data": {
            "text/html": [
              "\n",
              "     <input type=\"file\" id=\"files-bcd609d7-03cd-40c9-b30b-6f7bbb52bb6d\" name=\"files[]\" multiple disabled />\n",
              "     <output id=\"result-bcd609d7-03cd-40c9-b30b-6f7bbb52bb6d\">\n",
              "      Upload widget is only available when the cell has been executed in the\n",
              "      current browser session. Please rerun this cell to enable.\n",
              "      </output>\n",
              "      <script src=\"/nbextensions/google.colab/files.js\"></script> "
            ],
            "text/plain": [
              "<IPython.core.display.HTML object>"
            ]
          },
          "metadata": {
            "tags": []
          }
        },
        {
          "output_type": "stream",
          "text": [
            "Saving train.csv to train.csv\n"
          ],
          "name": "stdout"
        }
      ]
    },
    {
      "cell_type": "code",
      "metadata": {
        "id": "ToCQBjI27G2J",
        "colab_type": "code",
        "outputId": "8fe4fa6e-af59-4909-aac0-54fcc42ae5c0",
        "colab": {
          "base_uri": "https://localhost:8080/",
          "height": 34
        }
      },
      "source": [
        "for fn in uploaded.keys():\n",
        "  print('User uploaded file \"{name}\" with length {length} bytes'.format(name=fn, length=len(uploaded[fn])))"
      ],
      "execution_count": 10,
      "outputs": [
        {
          "output_type": "stream",
          "text": [
            "User uploaded file \"train.csv\" with length 92254186 bytes\n"
          ],
          "name": "stdout"
        }
      ]
    },
    {
      "cell_type": "code",
      "metadata": {
        "id": "peGTyMKD5jLX",
        "colab_type": "code",
        "colab": {}
      },
      "source": [
        "import io\n",
        "import pandas as pd"
      ],
      "execution_count": 0,
      "outputs": []
    },
    {
      "cell_type": "code",
      "metadata": {
        "id": "i6Yx8kSk5mAx",
        "colab_type": "code",
        "colab": {}
      },
      "source": [
        "train = pd.read_csv(io.StringIO(uploaded['train.csv'].decode('utf-8')))"
      ],
      "execution_count": 0,
      "outputs": []
    },
    {
      "cell_type": "code",
      "metadata": {
        "id": "dkRQS7iA2xbS",
        "colab_type": "code",
        "outputId": "89c063cc-808c-4536-93c4-9d15d0479fc0",
        "colab": {
          "base_uri": "https://localhost:8080/",
          "height": 253
        }
      },
      "source": [
        "train.head()"
      ],
      "execution_count": 14,
      "outputs": [
        {
          "output_type": "execute_result",
          "data": {
            "text/html": [
              "<div>\n",
              "<style scoped>\n",
              "    .dataframe tbody tr th:only-of-type {\n",
              "        vertical-align: middle;\n",
              "    }\n",
              "\n",
              "    .dataframe tbody tr th {\n",
              "        vertical-align: top;\n",
              "    }\n",
              "\n",
              "    .dataframe thead th {\n",
              "        text-align: right;\n",
              "    }\n",
              "</style>\n",
              "<table border=\"1\" class=\"dataframe\">\n",
              "  <thead>\n",
              "    <tr style=\"text-align: right;\">\n",
              "      <th></th>\n",
              "      <th>reservation_id</th>\n",
              "      <th>booking_date</th>\n",
              "      <th>checkin_date</th>\n",
              "      <th>checkout_date</th>\n",
              "      <th>channel_code</th>\n",
              "      <th>main_product_code</th>\n",
              "      <th>numberofadults</th>\n",
              "      <th>numberofchildren</th>\n",
              "      <th>persontravellingid</th>\n",
              "      <th>resort_region_code</th>\n",
              "      <th>...</th>\n",
              "      <th>state_code_residence</th>\n",
              "      <th>state_code_resort</th>\n",
              "      <th>total_pax</th>\n",
              "      <th>member_age_buckets</th>\n",
              "      <th>booking_type_code</th>\n",
              "      <th>memberid</th>\n",
              "      <th>cluster_code</th>\n",
              "      <th>reservationstatusid_code</th>\n",
              "      <th>resort_id</th>\n",
              "      <th>amount_spent_per_room_night_scaled</th>\n",
              "    </tr>\n",
              "  </thead>\n",
              "  <tbody>\n",
              "    <tr>\n",
              "      <th>0</th>\n",
              "      <td>07659f3758d8aee27f5a7e2887adeacb67021cb95ada1b...</td>\n",
              "      <td>05/04/18</td>\n",
              "      <td>05/04/18</td>\n",
              "      <td>06/04/18</td>\n",
              "      <td>3</td>\n",
              "      <td>1</td>\n",
              "      <td>2</td>\n",
              "      <td>0</td>\n",
              "      <td>46</td>\n",
              "      <td>3</td>\n",
              "      <td>...</td>\n",
              "      <td>7.0</td>\n",
              "      <td>3</td>\n",
              "      <td>3</td>\n",
              "      <td>F</td>\n",
              "      <td>1</td>\n",
              "      <td>3d1539e56495b6991f0a3ef5a61ca3d03ce4fff7380e9a...</td>\n",
              "      <td>F</td>\n",
              "      <td>C</td>\n",
              "      <td>4e07408562bedb8b60ce05c1decfe3ad16b72230967de0...</td>\n",
              "      <td>7.706428</td>\n",
              "    </tr>\n",
              "    <tr>\n",
              "      <th>1</th>\n",
              "      <td>03930f033646d073462b35d411616323597715ac4fc398...</td>\n",
              "      <td>23/01/15</td>\n",
              "      <td>11/04/15</td>\n",
              "      <td>16/04/15</td>\n",
              "      <td>1</td>\n",
              "      <td>1</td>\n",
              "      <td>2</td>\n",
              "      <td>0</td>\n",
              "      <td>46</td>\n",
              "      <td>3</td>\n",
              "      <td>...</td>\n",
              "      <td>7.0</td>\n",
              "      <td>5</td>\n",
              "      <td>2</td>\n",
              "      <td>F</td>\n",
              "      <td>1</td>\n",
              "      <td>3d1539e56495b6991f0a3ef5a61ca3d03ce4fff7380e9a...</td>\n",
              "      <td>F</td>\n",
              "      <td>A</td>\n",
              "      <td>39fa9ec190eee7b6f4dff1100d6343e10918d044c75eac...</td>\n",
              "      <td>6.662563</td>\n",
              "    </tr>\n",
              "    <tr>\n",
              "      <th>2</th>\n",
              "      <td>d145a32920e6587ad95bfe299d80c0affa268220535aaf...</td>\n",
              "      <td>28/01/15</td>\n",
              "      <td>01/02/15</td>\n",
              "      <td>05/02/15</td>\n",
              "      <td>1</td>\n",
              "      <td>1</td>\n",
              "      <td>2</td>\n",
              "      <td>0</td>\n",
              "      <td>47</td>\n",
              "      <td>1</td>\n",
              "      <td>...</td>\n",
              "      <td>7.0</td>\n",
              "      <td>1</td>\n",
              "      <td>2</td>\n",
              "      <td>F</td>\n",
              "      <td>1</td>\n",
              "      <td>3d1539e56495b6991f0a3ef5a61ca3d03ce4fff7380e9a...</td>\n",
              "      <td>E</td>\n",
              "      <td>A</td>\n",
              "      <td>535fa30d7e25dd8a49f1536779734ec8286108d115da50...</td>\n",
              "      <td>7.871602</td>\n",
              "    </tr>\n",
              "    <tr>\n",
              "      <th>3</th>\n",
              "      <td>cfd77f44811ed62f25a220b53324cdbafc662a4c9e5f04...</td>\n",
              "      <td>02/05/15</td>\n",
              "      <td>11/06/15</td>\n",
              "      <td>16/06/15</td>\n",
              "      <td>1</td>\n",
              "      <td>1</td>\n",
              "      <td>2</td>\n",
              "      <td>2</td>\n",
              "      <td>46</td>\n",
              "      <td>2</td>\n",
              "      <td>...</td>\n",
              "      <td>7.0</td>\n",
              "      <td>2</td>\n",
              "      <td>2</td>\n",
              "      <td>F</td>\n",
              "      <td>1</td>\n",
              "      <td>3d1539e56495b6991f0a3ef5a61ca3d03ce4fff7380e9a...</td>\n",
              "      <td>D</td>\n",
              "      <td>A</td>\n",
              "      <td>d4735e3a265e16eee03f59718b9b5d03019c07d8b6c51f...</td>\n",
              "      <td>5.344943</td>\n",
              "    </tr>\n",
              "    <tr>\n",
              "      <th>4</th>\n",
              "      <td>937cff9e4dcfc2459620153dfc8b9962ac22bea67dfb29...</td>\n",
              "      <td>02/09/15</td>\n",
              "      <td>14/12/15</td>\n",
              "      <td>19/12/15</td>\n",
              "      <td>1</td>\n",
              "      <td>1</td>\n",
              "      <td>2</td>\n",
              "      <td>0</td>\n",
              "      <td>46</td>\n",
              "      <td>2</td>\n",
              "      <td>...</td>\n",
              "      <td>7.0</td>\n",
              "      <td>2</td>\n",
              "      <td>2</td>\n",
              "      <td>F</td>\n",
              "      <td>1</td>\n",
              "      <td>3d1539e56495b6991f0a3ef5a61ca3d03ce4fff7380e9a...</td>\n",
              "      <td>D</td>\n",
              "      <td>A</td>\n",
              "      <td>d4735e3a265e16eee03f59718b9b5d03019c07d8b6c51f...</td>\n",
              "      <td>7.059346</td>\n",
              "    </tr>\n",
              "  </tbody>\n",
              "</table>\n",
              "<p>5 rows × 24 columns</p>\n",
              "</div>"
            ],
            "text/plain": [
              "                                      reservation_id booking_date  \\\n",
              "0  07659f3758d8aee27f5a7e2887adeacb67021cb95ada1b...     05/04/18   \n",
              "1  03930f033646d073462b35d411616323597715ac4fc398...     23/01/15   \n",
              "2  d145a32920e6587ad95bfe299d80c0affa268220535aaf...     28/01/15   \n",
              "3  cfd77f44811ed62f25a220b53324cdbafc662a4c9e5f04...     02/05/15   \n",
              "4  937cff9e4dcfc2459620153dfc8b9962ac22bea67dfb29...     02/09/15   \n",
              "\n",
              "  checkin_date checkout_date  channel_code  main_product_code  numberofadults  \\\n",
              "0     05/04/18      06/04/18             3                  1               2   \n",
              "1     11/04/15      16/04/15             1                  1               2   \n",
              "2     01/02/15      05/02/15             1                  1               2   \n",
              "3     11/06/15      16/06/15             1                  1               2   \n",
              "4     14/12/15      19/12/15             1                  1               2   \n",
              "\n",
              "   numberofchildren  persontravellingid  resort_region_code  ...  \\\n",
              "0                 0                  46                   3  ...   \n",
              "1                 0                  46                   3  ...   \n",
              "2                 0                  47                   1  ...   \n",
              "3                 2                  46                   2  ...   \n",
              "4                 0                  46                   2  ...   \n",
              "\n",
              "   state_code_residence  state_code_resort  total_pax  member_age_buckets  \\\n",
              "0                   7.0                  3          3                   F   \n",
              "1                   7.0                  5          2                   F   \n",
              "2                   7.0                  1          2                   F   \n",
              "3                   7.0                  2          2                   F   \n",
              "4                   7.0                  2          2                   F   \n",
              "\n",
              "   booking_type_code                                           memberid  \\\n",
              "0                  1  3d1539e56495b6991f0a3ef5a61ca3d03ce4fff7380e9a...   \n",
              "1                  1  3d1539e56495b6991f0a3ef5a61ca3d03ce4fff7380e9a...   \n",
              "2                  1  3d1539e56495b6991f0a3ef5a61ca3d03ce4fff7380e9a...   \n",
              "3                  1  3d1539e56495b6991f0a3ef5a61ca3d03ce4fff7380e9a...   \n",
              "4                  1  3d1539e56495b6991f0a3ef5a61ca3d03ce4fff7380e9a...   \n",
              "\n",
              "   cluster_code reservationstatusid_code  \\\n",
              "0             F                        C   \n",
              "1             F                        A   \n",
              "2             E                        A   \n",
              "3             D                        A   \n",
              "4             D                        A   \n",
              "\n",
              "                                           resort_id  \\\n",
              "0  4e07408562bedb8b60ce05c1decfe3ad16b72230967de0...   \n",
              "1  39fa9ec190eee7b6f4dff1100d6343e10918d044c75eac...   \n",
              "2  535fa30d7e25dd8a49f1536779734ec8286108d115da50...   \n",
              "3  d4735e3a265e16eee03f59718b9b5d03019c07d8b6c51f...   \n",
              "4  d4735e3a265e16eee03f59718b9b5d03019c07d8b6c51f...   \n",
              "\n",
              "  amount_spent_per_room_night_scaled  \n",
              "0                           7.706428  \n",
              "1                           6.662563  \n",
              "2                           7.871602  \n",
              "3                           5.344943  \n",
              "4                           7.059346  \n",
              "\n",
              "[5 rows x 24 columns]"
            ]
          },
          "metadata": {
            "tags": []
          },
          "execution_count": 14
        }
      ]
    },
    {
      "cell_type": "code",
      "metadata": {
        "id": "E7DDjcgN22Oy",
        "colab_type": "code",
        "outputId": "0cc90745-ceb6-41fd-d2a0-e96546cf1ed2",
        "colab": {
          "base_uri": "https://localhost:8080/",
          "height": 317
        }
      },
      "source": [
        "train.describe()"
      ],
      "execution_count": 15,
      "outputs": [
        {
          "output_type": "execute_result",
          "data": {
            "text/html": [
              "<div>\n",
              "<style scoped>\n",
              "    .dataframe tbody tr th:only-of-type {\n",
              "        vertical-align: middle;\n",
              "    }\n",
              "\n",
              "    .dataframe tbody tr th {\n",
              "        vertical-align: top;\n",
              "    }\n",
              "\n",
              "    .dataframe thead th {\n",
              "        text-align: right;\n",
              "    }\n",
              "</style>\n",
              "<table border=\"1\" class=\"dataframe\">\n",
              "  <thead>\n",
              "    <tr style=\"text-align: right;\">\n",
              "      <th></th>\n",
              "      <th>channel_code</th>\n",
              "      <th>main_product_code</th>\n",
              "      <th>numberofadults</th>\n",
              "      <th>numberofchildren</th>\n",
              "      <th>persontravellingid</th>\n",
              "      <th>resort_region_code</th>\n",
              "      <th>resort_type_code</th>\n",
              "      <th>room_type_booked_code</th>\n",
              "      <th>roomnights</th>\n",
              "      <th>season_holidayed_code</th>\n",
              "      <th>state_code_residence</th>\n",
              "      <th>state_code_resort</th>\n",
              "      <th>total_pax</th>\n",
              "      <th>booking_type_code</th>\n",
              "      <th>amount_spent_per_room_night_scaled</th>\n",
              "    </tr>\n",
              "  </thead>\n",
              "  <tbody>\n",
              "    <tr>\n",
              "      <th>count</th>\n",
              "      <td>341424.000000</td>\n",
              "      <td>341424.000000</td>\n",
              "      <td>341424.000000</td>\n",
              "      <td>341424.000000</td>\n",
              "      <td>341424.000000</td>\n",
              "      <td>341424.000000</td>\n",
              "      <td>341424.000000</td>\n",
              "      <td>341424.000000</td>\n",
              "      <td>341424.000000</td>\n",
              "      <td>341310.000000</td>\n",
              "      <td>336660.000000</td>\n",
              "      <td>341424.000000</td>\n",
              "      <td>341424.000000</td>\n",
              "      <td>341424.000000</td>\n",
              "      <td>341424.000000</td>\n",
              "    </tr>\n",
              "    <tr>\n",
              "      <th>mean</th>\n",
              "      <td>1.902810</td>\n",
              "      <td>2.208738</td>\n",
              "      <td>3.275361</td>\n",
              "      <td>0.362696</td>\n",
              "      <td>210.288905</td>\n",
              "      <td>1.772960</td>\n",
              "      <td>2.193832</td>\n",
              "      <td>2.890321</td>\n",
              "      <td>3.738346</td>\n",
              "      <td>2.673862</td>\n",
              "      <td>7.260708</td>\n",
              "      <td>4.763303</td>\n",
              "      <td>3.193390</td>\n",
              "      <td>1.124209</td>\n",
              "      <td>7.720801</td>\n",
              "    </tr>\n",
              "    <tr>\n",
              "      <th>std</th>\n",
              "      <td>0.915311</td>\n",
              "      <td>0.823779</td>\n",
              "      <td>1.756062</td>\n",
              "      <td>0.758019</td>\n",
              "      <td>865.735577</td>\n",
              "      <td>0.750806</td>\n",
              "      <td>1.551451</td>\n",
              "      <td>0.804260</td>\n",
              "      <td>2.479054</td>\n",
              "      <td>0.885650</td>\n",
              "      <td>4.701283</td>\n",
              "      <td>3.103909</td>\n",
              "      <td>1.167824</td>\n",
              "      <td>0.329821</td>\n",
              "      <td>1.090109</td>\n",
              "    </tr>\n",
              "    <tr>\n",
              "      <th>min</th>\n",
              "      <td>1.000000</td>\n",
              "      <td>1.000000</td>\n",
              "      <td>0.000000</td>\n",
              "      <td>0.000000</td>\n",
              "      <td>45.000000</td>\n",
              "      <td>1.000000</td>\n",
              "      <td>0.000000</td>\n",
              "      <td>1.000000</td>\n",
              "      <td>-45.000000</td>\n",
              "      <td>1.000000</td>\n",
              "      <td>1.000000</td>\n",
              "      <td>1.000000</td>\n",
              "      <td>0.000000</td>\n",
              "      <td>1.000000</td>\n",
              "      <td>1.600397</td>\n",
              "    </tr>\n",
              "    <tr>\n",
              "      <th>25%</th>\n",
              "      <td>1.000000</td>\n",
              "      <td>2.000000</td>\n",
              "      <td>2.000000</td>\n",
              "      <td>0.000000</td>\n",
              "      <td>45.000000</td>\n",
              "      <td>1.000000</td>\n",
              "      <td>1.000000</td>\n",
              "      <td>2.000000</td>\n",
              "      <td>2.000000</td>\n",
              "      <td>2.000000</td>\n",
              "      <td>4.000000</td>\n",
              "      <td>2.000000</td>\n",
              "      <td>2.000000</td>\n",
              "      <td>1.000000</td>\n",
              "      <td>7.187260</td>\n",
              "    </tr>\n",
              "    <tr>\n",
              "      <th>50%</th>\n",
              "      <td>2.000000</td>\n",
              "      <td>2.000000</td>\n",
              "      <td>3.000000</td>\n",
              "      <td>0.000000</td>\n",
              "      <td>45.000000</td>\n",
              "      <td>2.000000</td>\n",
              "      <td>2.000000</td>\n",
              "      <td>3.000000</td>\n",
              "      <td>3.000000</td>\n",
              "      <td>3.000000</td>\n",
              "      <td>8.000000</td>\n",
              "      <td>5.000000</td>\n",
              "      <td>3.000000</td>\n",
              "      <td>1.000000</td>\n",
              "      <td>7.860814</td>\n",
              "    </tr>\n",
              "    <tr>\n",
              "      <th>75%</th>\n",
              "      <td>3.000000</td>\n",
              "      <td>3.000000</td>\n",
              "      <td>4.000000</td>\n",
              "      <td>0.000000</td>\n",
              "      <td>45.000000</td>\n",
              "      <td>2.000000</td>\n",
              "      <td>3.000000</td>\n",
              "      <td>3.000000</td>\n",
              "      <td>4.000000</td>\n",
              "      <td>3.000000</td>\n",
              "      <td>8.000000</td>\n",
              "      <td>7.000000</td>\n",
              "      <td>4.000000</td>\n",
              "      <td>1.000000</td>\n",
              "      <td>8.419144</td>\n",
              "    </tr>\n",
              "    <tr>\n",
              "      <th>max</th>\n",
              "      <td>3.000000</td>\n",
              "      <td>7.000000</td>\n",
              "      <td>32.000000</td>\n",
              "      <td>13.000000</td>\n",
              "      <td>4995.000000</td>\n",
              "      <td>3.000000</td>\n",
              "      <td>7.000000</td>\n",
              "      <td>6.000000</td>\n",
              "      <td>60.000000</td>\n",
              "      <td>4.000000</td>\n",
              "      <td>38.000000</td>\n",
              "      <td>13.000000</td>\n",
              "      <td>24.000000</td>\n",
              "      <td>2.000000</td>\n",
              "      <td>10.816652</td>\n",
              "    </tr>\n",
              "  </tbody>\n",
              "</table>\n",
              "</div>"
            ],
            "text/plain": [
              "        channel_code  main_product_code  numberofadults  numberofchildren  \\\n",
              "count  341424.000000      341424.000000   341424.000000     341424.000000   \n",
              "mean        1.902810           2.208738        3.275361          0.362696   \n",
              "std         0.915311           0.823779        1.756062          0.758019   \n",
              "min         1.000000           1.000000        0.000000          0.000000   \n",
              "25%         1.000000           2.000000        2.000000          0.000000   \n",
              "50%         2.000000           2.000000        3.000000          0.000000   \n",
              "75%         3.000000           3.000000        4.000000          0.000000   \n",
              "max         3.000000           7.000000       32.000000         13.000000   \n",
              "\n",
              "       persontravellingid  resort_region_code  resort_type_code  \\\n",
              "count       341424.000000       341424.000000     341424.000000   \n",
              "mean           210.288905            1.772960          2.193832   \n",
              "std            865.735577            0.750806          1.551451   \n",
              "min             45.000000            1.000000          0.000000   \n",
              "25%             45.000000            1.000000          1.000000   \n",
              "50%             45.000000            2.000000          2.000000   \n",
              "75%             45.000000            2.000000          3.000000   \n",
              "max           4995.000000            3.000000          7.000000   \n",
              "\n",
              "       room_type_booked_code     roomnights  season_holidayed_code  \\\n",
              "count          341424.000000  341424.000000          341310.000000   \n",
              "mean                2.890321       3.738346               2.673862   \n",
              "std                 0.804260       2.479054               0.885650   \n",
              "min                 1.000000     -45.000000               1.000000   \n",
              "25%                 2.000000       2.000000               2.000000   \n",
              "50%                 3.000000       3.000000               3.000000   \n",
              "75%                 3.000000       4.000000               3.000000   \n",
              "max                 6.000000      60.000000               4.000000   \n",
              "\n",
              "       state_code_residence  state_code_resort      total_pax  \\\n",
              "count         336660.000000      341424.000000  341424.000000   \n",
              "mean               7.260708           4.763303       3.193390   \n",
              "std                4.701283           3.103909       1.167824   \n",
              "min                1.000000           1.000000       0.000000   \n",
              "25%                4.000000           2.000000       2.000000   \n",
              "50%                8.000000           5.000000       3.000000   \n",
              "75%                8.000000           7.000000       4.000000   \n",
              "max               38.000000          13.000000      24.000000   \n",
              "\n",
              "       booking_type_code  amount_spent_per_room_night_scaled  \n",
              "count      341424.000000                       341424.000000  \n",
              "mean            1.124209                            7.720801  \n",
              "std             0.329821                            1.090109  \n",
              "min             1.000000                            1.600397  \n",
              "25%             1.000000                            7.187260  \n",
              "50%             1.000000                            7.860814  \n",
              "75%             1.000000                            8.419144  \n",
              "max             2.000000                           10.816652  "
            ]
          },
          "metadata": {
            "tags": []
          },
          "execution_count": 15
        }
      ]
    },
    {
      "cell_type": "code",
      "metadata": {
        "id": "yQBjnEsb2-sQ",
        "colab_type": "code",
        "outputId": "dce894fc-d9b0-4006-cfa9-cbbf67a74c83",
        "colab": {
          "base_uri": "https://localhost:8080/",
          "height": 442
        }
      },
      "source": [
        "train.dtypes"
      ],
      "execution_count": 18,
      "outputs": [
        {
          "output_type": "execute_result",
          "data": {
            "text/plain": [
              "reservation_id                         object\n",
              "booking_date                           object\n",
              "checkin_date                           object\n",
              "checkout_date                          object\n",
              "channel_code                           object\n",
              "main_product_code                       int64\n",
              "numberofadults                          int64\n",
              "numberofchildren                        int64\n",
              "persontravellingid                      int64\n",
              "resort_region_code                      int64\n",
              "resort_type_code                        int64\n",
              "room_type_booked_code                   int64\n",
              "roomnights                              int64\n",
              "season_holidayed_code                 float64\n",
              "state_code_residence                  float64\n",
              "state_code_resort                       int64\n",
              "total_pax                               int64\n",
              "member_age_buckets                     object\n",
              "booking_type_code                       int64\n",
              "memberid                               object\n",
              "cluster_code                           object\n",
              "reservationstatusid_code               object\n",
              "resort_id                              object\n",
              "amount_spent_per_room_night_scaled    float64\n",
              "dtype: object"
            ]
          },
          "metadata": {
            "tags": []
          },
          "execution_count": 18
        }
      ]
    },
    {
      "cell_type": "code",
      "metadata": {
        "id": "l7973B2VeGrI",
        "colab_type": "code",
        "colab": {}
      },
      "source": [
        "train['channel_code']=train['channel_code'].astype(\"object\")                   "
      ],
      "execution_count": 0,
      "outputs": []
    },
    {
      "cell_type": "code",
      "metadata": {
        "id": "bB9sFOTMp0tT",
        "colab_type": "code",
        "colab": {}
      },
      "source": [
        "list(train.columns)"
      ],
      "execution_count": 0,
      "outputs": []
    },
    {
      "cell_type": "code",
      "metadata": {
        "id": "2ZY8Pt7t67Zl",
        "colab_type": "code",
        "colab": {}
      },
      "source": [
        "import seaborn as sns\n",
        "import matplotlib.pyplot as plt"
      ],
      "execution_count": 0,
      "outputs": []
    },
    {
      "cell_type": "code",
      "metadata": {
        "id": "hs8XJsUVhsUN",
        "colab_type": "code",
        "colab": {}
      },
      "source": [
        "train.plot(kind='bar',x='channel_code',y='amount_spent_per_room_night_scaled')"
      ],
      "execution_count": 0,
      "outputs": []
    },
    {
      "cell_type": "code",
      "metadata": {
        "id": "86sSn6h42vyU",
        "colab_type": "code",
        "colab": {}
      },
      "source": [
        "\n",
        "#histogram\n",
        "sns.distplot(train['amount_spent_per_room_night_scaled']);"
      ],
      "execution_count": 0,
      "outputs": []
    },
    {
      "cell_type": "code",
      "metadata": {
        "id": "7HQjFK-3jNN7",
        "colab_type": "code",
        "outputId": "740aea1b-1a57-4149-903f-ae57fc3277cb",
        "colab": {
          "base_uri": "https://localhost:8080/",
          "height": 163
        }
      },
      "source": [
        "sns.distplot(log(train['amount_spent_per_room_night_scaled']));"
      ],
      "execution_count": 0,
      "outputs": [
        {
          "output_type": "error",
          "ename": "NameError",
          "evalue": "ignored",
          "traceback": [
            "\u001b[0;31m---------------------------------------------------------------------------\u001b[0m",
            "\u001b[0;31mNameError\u001b[0m                                 Traceback (most recent call last)",
            "\u001b[0;32m<ipython-input-18-705eb0973c23>\u001b[0m in \u001b[0;36m<module>\u001b[0;34m()\u001b[0m\n\u001b[0;32m----> 1\u001b[0;31m \u001b[0msns\u001b[0m\u001b[0;34m.\u001b[0m\u001b[0mdistplot\u001b[0m\u001b[0;34m(\u001b[0m\u001b[0mlog\u001b[0m\u001b[0;34m(\u001b[0m\u001b[0mtrain\u001b[0m\u001b[0;34m[\u001b[0m\u001b[0;34m'amount_spent_per_room_night_scaled'\u001b[0m\u001b[0;34m]\u001b[0m\u001b[0;34m)\u001b[0m\u001b[0;34m)\u001b[0m\u001b[0;34m;\u001b[0m\u001b[0;34m\u001b[0m\u001b[0;34m\u001b[0m\u001b[0m\n\u001b[0m",
            "\u001b[0;31mNameError\u001b[0m: name 'log' is not defined"
          ]
        }
      ]
    }
  ]
}